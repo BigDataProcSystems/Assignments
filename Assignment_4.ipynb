{
 "cells": [
  {
   "cell_type": "markdown",
   "metadata": {},
   "source": [
    "<div style=\"font-size:18pt; padding-top:20px; text-align:center\">ЗАДАНИЕ 4. <b>Анализ поездок и </b> <span style=\"font-weight:bold; color:green\">Spark GraphFrames</span></div><hr>\n",
    "<div style=\"text-align:right;\">Папулин С.Ю. <span style=\"font-style: italic;font-weight: bold;\">(papulin_bmstu@mail.ru)</span></div>"
   ]
  },
  {
   "cell_type": "markdown",
   "metadata": {},
   "source": [
    "<p>Подключение стилей оформления</p>"
   ]
  },
  {
   "cell_type": "code",
   "execution_count": 1,
   "metadata": {},
   "outputs": [
    {
     "data": {
      "text/html": [
       "<link href=\"css/style.css\" rel=\"stylesheet\" type=\"text/css\">"
      ],
      "text/plain": [
       "<IPython.core.display.HTML object>"
      ]
     },
     "metadata": {},
     "output_type": "display_data"
    }
   ],
   "source": [
    "%%html\n",
    "<link href=\"css/style.css\" rel=\"stylesheet\" type=\"text/css\">"
   ]
  },
  {
   "cell_type": "markdown",
   "metadata": {},
   "source": [
    "<a name=\"1\"></a>\n",
    "<div style=\"display:table; width:100%; padding-top:10px; padding-bottom:10px; border-bottom:1px solid lightgrey\">\n",
    "    <div style=\"display:table-row\">\n",
    "        <div style=\"display:table-cell; width:80%; font-size:14pt; font-weight:bold\">Задание</div>\n",
    "    \t<div style=\"display:table-cell; width:20%; text-align:center; background-color:whitesmoke; border:1px solid lightgrey\"><a href=\"#0\">К содержанию</a></div>\n",
    "    </div>\n",
    "</div>"
   ]
  },
  {
   "cell_type": "markdown",
   "metadata": {},
   "source": [
    "<div class=\"msg-block msg-warning\">\n",
    "  <p class=\"msg-text-warn\">Хотя большинство задач можно сделать через стандартные средства DataFrame без необходимости перевода в GraphFrames, используйте GraphFrames как основную структуру для решения поставленных задач.</p>\n",
    "</div>"
   ]
  },
  {
   "cell_type": "markdown",
   "metadata": {},
   "source": [
    "<p><b>Датасеты:</b></p>"
   ]
  },
  {
   "cell_type": "markdown",
   "metadata": {},
   "source": [
    "Поездки (bikeshare): <a href=\"https://s3.amazonaws.com/tripdata/201902-citibike-tripdata.csv.zip\">данные</a> | <a href=\"https://s3.amazonaws.com/tripdata/index.html\">пояснения</a><br>\n",
    "\n",
    "Кварталы NYC: <a href=\"https://data.cityofnewyork.us/api/geospatial/d3c5-ddgc?method=export&format=GeoJSON\">данные</a>"
   ]
  },
  {
   "cell_type": "markdown",
   "metadata": {},
   "source": [
    "#### Задача 1\n",
    "\n",
    "- определите для каждой станции количество начала поездок и количество завершения поездок\n",
    "- сопоставьте станции с кварталами города (zones) и определите суммы количества начала и завершения для кажого квартала\n",
    "- выведите по убыванию и \n",
    "- отобразите в виде картограмм (Choropleth).  "
   ]
  },
  {
   "cell_type": "markdown",
   "metadata": {},
   "source": [
    "#### Задача 2\n",
    "\n",
    "- определите \"важность\" вершин графа поездок с использование PageRank\n",
    "- выведите по убыванию и \n",
    "- отобразите на тепловой карте (HeatMap)"
   ]
  },
  {
   "cell_type": "markdown",
   "metadata": {},
   "source": [
    "#### Задача 3\n",
    "\n",
    "- оцените дистанцию поездок (в метрах) на основе координат начальной и конечной станций\n",
    "- выведите максимальное, среднее значение, стандартное отклонение и медиан"
   ]
  },
  {
   "cell_type": "markdown",
   "metadata": {},
   "source": [
    "#### Задача 4\n",
    "\n",
    "- определите для каждой станции среднее количество начала поездок и количество завершения поездок:\n",
    "    - в день \n",
    "    - утром (06:00-11:59), днем (12:00-17:59), вечером (18:00-23:59), ночью (00:00-05:59)\n",
    "    - в среду и в воскресенье по временным диапазонам (см. выше)\n",
    "- отобразите полученные данные для второго случая в виде тепловой временной карты (HeatMapWithTime) "
   ]
  },
  {
   "cell_type": "markdown",
   "metadata": {},
   "source": [
    "<hr>\n",
    "<div style=\"width:100%;\"><p style=\"width:100%; text-align:center; font-weight:bold; font-size:18px;\">FIN</p></div>"
   ]
  }
 ],
 "metadata": {
  "kernelspec": {
   "display_name": "Python 3",
   "language": "python",
   "name": "python3"
  },
  "language_info": {
   "codemirror_mode": {
    "name": "ipython",
    "version": 3
   },
   "file_extension": ".py",
   "mimetype": "text/x-python",
   "name": "python",
   "nbconvert_exporter": "python",
   "pygments_lexer": "ipython3",
   "version": "3.5.2"
  }
 },
 "nbformat": 4,
 "nbformat_minor": 2
}
